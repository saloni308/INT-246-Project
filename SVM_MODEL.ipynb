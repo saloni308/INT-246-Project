{
 "cells": [
  {
   "cell_type": "markdown",
   "id": "29a0e4c9",
   "metadata": {},
   "source": [
    "# SVM Model"
   ]
  },
  {
   "cell_type": "code",
   "execution_count": 2,
   "id": "39eed1ef",
   "metadata": {},
   "outputs": [],
   "source": [
    "#importing libraries\n",
    "import numpy as np\n",
    "import pandas as pd\n",
    "import matplotlib.pyplot as plt"
   ]
  },
  {
   "cell_type": "code",
   "execution_count": 3,
   "id": "7a7c7bd6",
   "metadata": {},
   "outputs": [],
   "source": [
    "pd.set_option('display.max_columns',100)"
   ]
  },
  {
   "cell_type": "code",
   "execution_count": 4,
   "id": "be1563bb",
   "metadata": {},
   "outputs": [
    {
     "data": {
      "text/html": [
       "<div>\n",
       "<style scoped>\n",
       "    .dataframe tbody tr th:only-of-type {\n",
       "        vertical-align: middle;\n",
       "    }\n",
       "\n",
       "    .dataframe tbody tr th {\n",
       "        vertical-align: top;\n",
       "    }\n",
       "\n",
       "    .dataframe thead th {\n",
       "        text-align: right;\n",
       "    }\n",
       "</style>\n",
       "<table border=\"1\" class=\"dataframe\">\n",
       "  <thead>\n",
       "    <tr style=\"text-align: right;\">\n",
       "      <th></th>\n",
       "      <th>churches</th>\n",
       "      <th>resorts</th>\n",
       "      <th>beaches</th>\n",
       "      <th>parks</th>\n",
       "      <th>theatres</th>\n",
       "      <th>museums</th>\n",
       "      <th>malls</th>\n",
       "      <th>zoo</th>\n",
       "      <th>restaurants</th>\n",
       "      <th>pubs/bars</th>\n",
       "      <th>local services</th>\n",
       "      <th>burger/pizza shops</th>\n",
       "      <th>hotels/otherlodgings</th>\n",
       "      <th>juice bars</th>\n",
       "      <th>art galleries</th>\n",
       "      <th>dance clubs</th>\n",
       "      <th>swimming pools</th>\n",
       "      <th>gyms</th>\n",
       "      <th>bakeries</th>\n",
       "      <th>beauty &amp; spas</th>\n",
       "      <th>cafes</th>\n",
       "      <th>viewpoints</th>\n",
       "      <th>monuments</th>\n",
       "      <th>gardens</th>\n",
       "      <th>Av_Experience</th>\n",
       "      <th>Experience</th>\n",
       "    </tr>\n",
       "  </thead>\n",
       "  <tbody>\n",
       "    <tr>\n",
       "      <th>0</th>\n",
       "      <td>0.0</td>\n",
       "      <td>0.0</td>\n",
       "      <td>3.63</td>\n",
       "      <td>3.65</td>\n",
       "      <td>5.0</td>\n",
       "      <td>2.92</td>\n",
       "      <td>5.0</td>\n",
       "      <td>2.35</td>\n",
       "      <td>2.33</td>\n",
       "      <td>2.64</td>\n",
       "      <td>1.70</td>\n",
       "      <td>1.69</td>\n",
       "      <td>1.7</td>\n",
       "      <td>1.72</td>\n",
       "      <td>1.74</td>\n",
       "      <td>0.59</td>\n",
       "      <td>0.5</td>\n",
       "      <td>0.0</td>\n",
       "      <td>0.5</td>\n",
       "      <td>0.0</td>\n",
       "      <td>0.0</td>\n",
       "      <td>0.0</td>\n",
       "      <td>0.0</td>\n",
       "      <td>0.0</td>\n",
       "      <td>1.569167</td>\n",
       "      <td>0</td>\n",
       "    </tr>\n",
       "    <tr>\n",
       "      <th>1</th>\n",
       "      <td>0.0</td>\n",
       "      <td>0.0</td>\n",
       "      <td>3.63</td>\n",
       "      <td>3.65</td>\n",
       "      <td>5.0</td>\n",
       "      <td>2.92</td>\n",
       "      <td>5.0</td>\n",
       "      <td>2.64</td>\n",
       "      <td>2.33</td>\n",
       "      <td>2.65</td>\n",
       "      <td>1.70</td>\n",
       "      <td>1.69</td>\n",
       "      <td>1.7</td>\n",
       "      <td>1.72</td>\n",
       "      <td>1.74</td>\n",
       "      <td>0.59</td>\n",
       "      <td>0.5</td>\n",
       "      <td>0.0</td>\n",
       "      <td>0.5</td>\n",
       "      <td>0.0</td>\n",
       "      <td>0.0</td>\n",
       "      <td>0.0</td>\n",
       "      <td>0.0</td>\n",
       "      <td>0.0</td>\n",
       "      <td>1.581667</td>\n",
       "      <td>0</td>\n",
       "    </tr>\n",
       "    <tr>\n",
       "      <th>2</th>\n",
       "      <td>0.0</td>\n",
       "      <td>0.0</td>\n",
       "      <td>3.63</td>\n",
       "      <td>3.63</td>\n",
       "      <td>5.0</td>\n",
       "      <td>2.92</td>\n",
       "      <td>5.0</td>\n",
       "      <td>2.64</td>\n",
       "      <td>2.33</td>\n",
       "      <td>2.64</td>\n",
       "      <td>1.70</td>\n",
       "      <td>1.69</td>\n",
       "      <td>1.7</td>\n",
       "      <td>1.72</td>\n",
       "      <td>1.74</td>\n",
       "      <td>0.59</td>\n",
       "      <td>0.5</td>\n",
       "      <td>0.0</td>\n",
       "      <td>0.5</td>\n",
       "      <td>0.0</td>\n",
       "      <td>0.0</td>\n",
       "      <td>0.0</td>\n",
       "      <td>0.0</td>\n",
       "      <td>0.0</td>\n",
       "      <td>1.580417</td>\n",
       "      <td>0</td>\n",
       "    </tr>\n",
       "    <tr>\n",
       "      <th>3</th>\n",
       "      <td>0.0</td>\n",
       "      <td>0.5</td>\n",
       "      <td>3.63</td>\n",
       "      <td>3.63</td>\n",
       "      <td>5.0</td>\n",
       "      <td>2.92</td>\n",
       "      <td>5.0</td>\n",
       "      <td>2.35</td>\n",
       "      <td>2.33</td>\n",
       "      <td>2.64</td>\n",
       "      <td>1.73</td>\n",
       "      <td>1.69</td>\n",
       "      <td>1.7</td>\n",
       "      <td>1.72</td>\n",
       "      <td>1.74</td>\n",
       "      <td>0.59</td>\n",
       "      <td>0.5</td>\n",
       "      <td>0.0</td>\n",
       "      <td>0.5</td>\n",
       "      <td>0.0</td>\n",
       "      <td>0.0</td>\n",
       "      <td>0.0</td>\n",
       "      <td>0.0</td>\n",
       "      <td>0.0</td>\n",
       "      <td>1.590417</td>\n",
       "      <td>0</td>\n",
       "    </tr>\n",
       "    <tr>\n",
       "      <th>4</th>\n",
       "      <td>0.0</td>\n",
       "      <td>0.0</td>\n",
       "      <td>3.63</td>\n",
       "      <td>3.63</td>\n",
       "      <td>5.0</td>\n",
       "      <td>2.92</td>\n",
       "      <td>5.0</td>\n",
       "      <td>2.64</td>\n",
       "      <td>2.33</td>\n",
       "      <td>2.64</td>\n",
       "      <td>1.70</td>\n",
       "      <td>1.69</td>\n",
       "      <td>1.7</td>\n",
       "      <td>1.72</td>\n",
       "      <td>1.74</td>\n",
       "      <td>0.59</td>\n",
       "      <td>0.5</td>\n",
       "      <td>0.0</td>\n",
       "      <td>0.5</td>\n",
       "      <td>0.0</td>\n",
       "      <td>0.0</td>\n",
       "      <td>0.0</td>\n",
       "      <td>0.0</td>\n",
       "      <td>0.0</td>\n",
       "      <td>1.580417</td>\n",
       "      <td>0</td>\n",
       "    </tr>\n",
       "  </tbody>\n",
       "</table>\n",
       "</div>"
      ],
      "text/plain": [
       "   churches  resorts  beaches  parks  theatres  museums  malls   zoo  \\\n",
       "0       0.0      0.0     3.63   3.65       5.0     2.92    5.0  2.35   \n",
       "1       0.0      0.0     3.63   3.65       5.0     2.92    5.0  2.64   \n",
       "2       0.0      0.0     3.63   3.63       5.0     2.92    5.0  2.64   \n",
       "3       0.0      0.5     3.63   3.63       5.0     2.92    5.0  2.35   \n",
       "4       0.0      0.0     3.63   3.63       5.0     2.92    5.0  2.64   \n",
       "\n",
       "   restaurants  pubs/bars  local services  burger/pizza shops  \\\n",
       "0         2.33       2.64            1.70                1.69   \n",
       "1         2.33       2.65            1.70                1.69   \n",
       "2         2.33       2.64            1.70                1.69   \n",
       "3         2.33       2.64            1.73                1.69   \n",
       "4         2.33       2.64            1.70                1.69   \n",
       "\n",
       "   hotels/otherlodgings  juice bars  art galleries  dance clubs  \\\n",
       "0                   1.7        1.72           1.74         0.59   \n",
       "1                   1.7        1.72           1.74         0.59   \n",
       "2                   1.7        1.72           1.74         0.59   \n",
       "3                   1.7        1.72           1.74         0.59   \n",
       "4                   1.7        1.72           1.74         0.59   \n",
       "\n",
       "   swimming pools  gyms  bakeries  beauty & spas  cafes  viewpoints  \\\n",
       "0             0.5   0.0       0.5            0.0    0.0         0.0   \n",
       "1             0.5   0.0       0.5            0.0    0.0         0.0   \n",
       "2             0.5   0.0       0.5            0.0    0.0         0.0   \n",
       "3             0.5   0.0       0.5            0.0    0.0         0.0   \n",
       "4             0.5   0.0       0.5            0.0    0.0         0.0   \n",
       "\n",
       "   monuments  gardens  Av_Experience  Experience  \n",
       "0        0.0      0.0       1.569167           0  \n",
       "1        0.0      0.0       1.581667           0  \n",
       "2        0.0      0.0       1.580417           0  \n",
       "3        0.0      0.0       1.590417           0  \n",
       "4        0.0      0.0       1.580417           0  "
      ]
     },
     "execution_count": 4,
     "metadata": {},
     "output_type": "execute_result"
    }
   ],
   "source": [
    "#importing the dataset\n",
    "df = pd.read_csv('rating.csv')\n",
    "df.head()"
   ]
  },
  {
   "cell_type": "code",
   "execution_count": 5,
   "id": "33d714a3",
   "metadata": {},
   "outputs": [],
   "source": [
    "#importing packages\n",
    "from sklearn import svm\n",
    "from sklearn import model_selection\n",
    "from sklearn import metrics"
   ]
  },
  {
   "cell_type": "code",
   "execution_count": 6,
   "id": "17dabdb4",
   "metadata": {},
   "outputs": [],
   "source": [
    "column_names = df.columns"
   ]
  },
  {
   "cell_type": "code",
   "execution_count": 7,
   "id": "80bce8ed",
   "metadata": {},
   "outputs": [],
   "source": [
    "x = df.drop(['Av_Experience', 'Experience'], axis=1)\n",
    "y = df['Experience']"
   ]
  },
  {
   "cell_type": "code",
   "execution_count": 8,
   "id": "a08d371c",
   "metadata": {},
   "outputs": [],
   "source": [
    "#dividing dataset to training and testing data\n",
    "X_train, X_test, Y_train, Y_test = model_selection.train_test_split(x, y, test_size = 0.3)"
   ]
  },
  {
   "cell_type": "code",
   "execution_count": 9,
   "id": "e797016f",
   "metadata": {},
   "outputs": [],
   "source": [
    "#initializing the model\n",
    "model = svm.SVC(kernel = 'linear', C =1)"
   ]
  },
  {
   "cell_type": "code",
   "execution_count": 10,
   "id": "1c15e28a",
   "metadata": {},
   "outputs": [
    {
     "data": {
      "text/plain": [
       "SVC(C=1, kernel='linear')"
      ]
     },
     "execution_count": 10,
     "metadata": {},
     "output_type": "execute_result"
    }
   ],
   "source": [
    "#training the model\n",
    "model.fit(X_train, Y_train)"
   ]
  },
  {
   "cell_type": "code",
   "execution_count": 11,
   "id": "21d329fd",
   "metadata": {},
   "outputs": [],
   "source": [
    "#predicting\n",
    "Y_pred = model.predict(X_test)"
   ]
  },
  {
   "cell_type": "code",
   "execution_count": 12,
   "id": "4a3b6b08",
   "metadata": {},
   "outputs": [
    {
     "data": {
      "text/plain": [
       "array([0, 1, 1, ..., 1, 0, 0], dtype=int64)"
      ]
     },
     "execution_count": 12,
     "metadata": {},
     "output_type": "execute_result"
    }
   ],
   "source": [
    "Y_pred"
   ]
  },
  {
   "cell_type": "code",
   "execution_count": 12,
   "id": "0da10511",
   "metadata": {},
   "outputs": [
    {
     "data": {
      "text/plain": [
       "0.9945021380574222"
      ]
     },
     "execution_count": 12,
     "metadata": {},
     "output_type": "execute_result"
    }
   ],
   "source": [
    "#Evaluating the model\n",
    "metrics.accuracy_score(Y_test, Y_pred)"
   ]
  },
  {
   "cell_type": "code",
   "execution_count": 13,
   "id": "a5a8880e",
   "metadata": {},
   "outputs": [
    {
     "data": {
      "text/plain": [
       "<matplotlib.collections.PathCollection at 0x24d518f8f10>"
      ]
     },
     "execution_count": 13,
     "metadata": {},
     "output_type": "execute_result"
    },
    {
     "data": {
      "image/png": "[encoded data removed]",
      "text/plain": [
       "<Figure size 432x288 with 1 Axes>"
      ]
     },
     "metadata": {
      "needs_background": "light"
     },
     "output_type": "display_data"
    }
   ],
   "source": [
    "plt.scatter(Y_test, Y_pred)"
   ]
  },
  {
   "cell_type": "code",
   "execution_count": 14,
   "id": "f5903a47",
   "metadata": {},
   "outputs": [
    {
     "data": {
      "text/plain": [
       "(1637, 24)"
      ]
     },
     "execution_count": 14,
     "metadata": {},
     "output_type": "execute_result"
    }
   ],
   "source": [
    "X_test.shape"
   ]
  },
  {
   "cell_type": "code",
   "execution_count": 15,
   "id": "3be32823",
   "metadata": {},
   "outputs": [
    {
     "data": {
      "text/plain": [
       "array([[776,   3],\n",
       "       [  6, 852]], dtype=int64)"
      ]
     },
     "execution_count": 15,
     "metadata": {},
     "output_type": "execute_result"
    }
   ],
   "source": [
    "#making confusion matrix\n",
    "cm = metrics.confusion_matrix(Y_test, Y_pred)\n",
    "cm"
   ]
  },
  {
   "cell_type": "code",
   "execution_count": 79,
   "id": "b14028a5",
   "metadata": {
    "scrolled": false
   },
   "outputs": [
    {
     "data": {
      "text/plain": [
       "Text(69.0, 0.5, 'Predicted')"
      ]
     },
     "execution_count": 79,
     "metadata": {},
     "output_type": "execute_result"
    },
    {
     "data": {
      "image/png": "[encoded data removed]",
      "text/plain": [
       "<Figure size 720x504 with 2 Axes>"
      ]
     },
     "metadata": {
      "needs_background": "light"
     },
     "output_type": "display_data"
    }
   ],
   "source": [
    "import seaborn as sn\n",
    "plt.figure(figsize = (10,7))\n",
    "sn.heatmap(cm, annot = True, cmap = 'icefire_r')\n",
    "plt.xlabel('Truth')\n",
    "plt.ylabel('Predicted')"
   ]
  },
  {
   "cell_type": "code",
   "execution_count": null,
   "id": "7ee5c573",
   "metadata": {},
   "outputs": [],
   "source": []
  },
  {
   "cell_type": "code",
   "execution_count": null,
   "id": "4a2a8dbc",
   "metadata": {},
   "outputs": [],
   "source": []
  }
 ],
 "metadata": {
  "kernelspec": {
   "display_name": "Python 3",
   "language": "python",
   "name": "python3"
  },
  "language_info": {
   "codemirror_mode": {
    "name": "ipython",
    "version": 3
   },
   "file_extension": ".py",
   "mimetype": "text/x-python",
   "name": "python",
   "nbconvert_exporter": "python",
   "pygments_lexer": "ipython3",
   "version": "3.8.8"
  }
 },
 "nbformat": 4,
 "nbformat_minor": 5
}
