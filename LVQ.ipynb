{
 "cells": [
  {
   "cell_type": "code",
   "execution_count": 1,
   "id": "de009c1e",
   "metadata": {},
   "outputs": [],
   "source": [
    "#imported libraries\n",
    "import pandas as pd\n",
    "import numpy as np\n",
    "import math "
   ]
  },
  {
   "cell_type": "code",
   "execution_count": 2,
   "id": "3f1f4220",
   "metadata": {},
   "outputs": [
    {
     "data": {
      "text/html": [
       "<div>\n",
       "<style scoped>\n",
       "    .dataframe tbody tr th:only-of-type {\n",
       "        vertical-align: middle;\n",
       "    }\n",
       "\n",
       "    .dataframe tbody tr th {\n",
       "        vertical-align: top;\n",
       "    }\n",
       "\n",
       "    .dataframe thead th {\n",
       "        text-align: right;\n",
       "    }\n",
       "</style>\n",
       "<table border=\"1\" class=\"dataframe\">\n",
       "  <thead>\n",
       "    <tr style=\"text-align: right;\">\n",
       "      <th></th>\n",
       "      <th>churches</th>\n",
       "      <th>resorts</th>\n",
       "      <th>beaches</th>\n",
       "      <th>parks</th>\n",
       "      <th>theatres</th>\n",
       "      <th>museums</th>\n",
       "      <th>malls</th>\n",
       "      <th>zoo</th>\n",
       "      <th>restaurants</th>\n",
       "      <th>pubs/bars</th>\n",
       "      <th>...</th>\n",
       "      <th>swimming pools</th>\n",
       "      <th>gyms</th>\n",
       "      <th>bakeries</th>\n",
       "      <th>beauty &amp; spas</th>\n",
       "      <th>cafes</th>\n",
       "      <th>viewpoints</th>\n",
       "      <th>monuments</th>\n",
       "      <th>gardens</th>\n",
       "      <th>Av_Experience</th>\n",
       "      <th>Experience</th>\n",
       "    </tr>\n",
       "  </thead>\n",
       "  <tbody>\n",
       "    <tr>\n",
       "      <th>0</th>\n",
       "      <td>0.0</td>\n",
       "      <td>0.0</td>\n",
       "      <td>3.63</td>\n",
       "      <td>3.65</td>\n",
       "      <td>5.0</td>\n",
       "      <td>2.92</td>\n",
       "      <td>5.0</td>\n",
       "      <td>2.35</td>\n",
       "      <td>2.33</td>\n",
       "      <td>2.64</td>\n",
       "      <td>...</td>\n",
       "      <td>0.5</td>\n",
       "      <td>0.0</td>\n",
       "      <td>0.5</td>\n",
       "      <td>0.0</td>\n",
       "      <td>0.0</td>\n",
       "      <td>0.0</td>\n",
       "      <td>0.0</td>\n",
       "      <td>0.0</td>\n",
       "      <td>1.569167</td>\n",
       "      <td>0</td>\n",
       "    </tr>\n",
       "    <tr>\n",
       "      <th>1</th>\n",
       "      <td>0.0</td>\n",
       "      <td>0.0</td>\n",
       "      <td>3.63</td>\n",
       "      <td>3.65</td>\n",
       "      <td>5.0</td>\n",
       "      <td>2.92</td>\n",
       "      <td>5.0</td>\n",
       "      <td>2.64</td>\n",
       "      <td>2.33</td>\n",
       "      <td>2.65</td>\n",
       "      <td>...</td>\n",
       "      <td>0.5</td>\n",
       "      <td>0.0</td>\n",
       "      <td>0.5</td>\n",
       "      <td>0.0</td>\n",
       "      <td>0.0</td>\n",
       "      <td>0.0</td>\n",
       "      <td>0.0</td>\n",
       "      <td>0.0</td>\n",
       "      <td>1.581667</td>\n",
       "      <td>0</td>\n",
       "    </tr>\n",
       "  </tbody>\n",
       "</table>\n",
       "<p>2 rows × 26 columns</p>\n",
       "</div>"
      ],
      "text/plain": [
       "   churches  resorts  beaches  parks  theatres  museums  malls   zoo  \\\n",
       "0       0.0      0.0     3.63   3.65       5.0     2.92    5.0  2.35   \n",
       "1       0.0      0.0     3.63   3.65       5.0     2.92    5.0  2.64   \n",
       "\n",
       "   restaurants  pubs/bars  ...  swimming pools  gyms  bakeries  beauty & spas  \\\n",
       "0         2.33       2.64  ...             0.5   0.0       0.5            0.0   \n",
       "1         2.33       2.65  ...             0.5   0.0       0.5            0.0   \n",
       "\n",
       "   cafes  viewpoints  monuments  gardens  Av_Experience  Experience  \n",
       "0    0.0         0.0        0.0      0.0       1.569167           0  \n",
       "1    0.0         0.0        0.0      0.0       1.581667           0  \n",
       "\n",
       "[2 rows x 26 columns]"
      ]
     },
     "execution_count": 2,
     "metadata": {},
     "output_type": "execute_result"
    }
   ],
   "source": [
    "#importing csv file\n",
    "df = pd.read_csv('rating.csv')\n",
    "df.head(2)"
   ]
  },
  {
   "cell_type": "code",
   "execution_count": 3,
   "id": "f6eb420b",
   "metadata": {},
   "outputs": [],
   "source": [
    "df = df.drop(['Av_Experience'], axis = 1)"
   ]
  },
  {
   "cell_type": "code",
   "execution_count": 4,
   "id": "af271703",
   "metadata": {},
   "outputs": [],
   "source": [
    "x = df.drop(['Experience'], axis = 1)\n",
    "y = df['Experience']  #target"
   ]
  },
  {
   "cell_type": "code",
   "execution_count": 5,
   "id": "92364a9d",
   "metadata": {},
   "outputs": [
    {
     "data": {
      "text/plain": [
       "(5456, 24)"
      ]
     },
     "execution_count": 5,
     "metadata": {},
     "output_type": "execute_result"
    }
   ],
   "source": [
    "x.shape"
   ]
  },
  {
   "cell_type": "code",
   "execution_count": 6,
   "id": "affa37a7",
   "metadata": {},
   "outputs": [
    {
     "data": {
      "text/plain": [
       "array([0, 1], dtype=int64)"
      ]
     },
     "execution_count": 6,
     "metadata": {},
     "output_type": "execute_result"
    }
   ],
   "source": [
    "y.unique()"
   ]
  },
  {
   "cell_type": "code",
   "execution_count": 7,
   "id": "10462ff1",
   "metadata": {},
   "outputs": [
    {
     "data": {
      "text/plain": [
       "0       0\n",
       "1       0\n",
       "2       0\n",
       "3       0\n",
       "4       0\n",
       "       ..\n",
       "5451    1\n",
       "5452    0\n",
       "5453    1\n",
       "5454    1\n",
       "5455    1\n",
       "Name: Experience, Length: 5456, dtype: int64"
      ]
     },
     "execution_count": 7,
     "metadata": {},
     "output_type": "execute_result"
    }
   ],
   "source": [
    "y"
   ]
  },
  {
   "cell_type": "code",
   "execution_count": 8,
   "id": "939f1ecf",
   "metadata": {},
   "outputs": [
    {
     "name": "stderr",
     "output_type": "stream",
     "text": [
      "WARNING (theano.configdefaults): g++ not available, if using conda: `conda install m2w64-toolchain`\n",
      "C:\\Users\\pankaj verma\\anaconda3\\lib\\site-packages\\theano\\configdefaults.py:560: UserWarning: DeprecationWarning: there is no c++ compiler.This is deprecated and with Theano 0.11 a c++ compiler will be mandatory\n",
      "  warnings.warn(\"DeprecationWarning: there is no c++ compiler.\"\n",
      "WARNING (theano.configdefaults): g++ not detected ! Theano will be unable to execute optimized C-implementations (for both CPU and GPU) and will default to Python implementations. Performance will be severely degraded. To remove this warning, set Theano flags cxx to an empty string.\n",
      "WARNING (theano.tensor.blas): Using NumPy C-API based implementation for BLAS functions.\n"
     ]
    }
   ],
   "source": [
    "#importing LVQ algo.\n",
    "from neupy import algorithms\n",
    "classifier = algorithms.LVQ(n_inputs = 24, n_classes=2)"
   ]
  },
  {
   "cell_type": "code",
   "execution_count": 9,
   "id": "0a07e8ab",
   "metadata": {},
   "outputs": [],
   "source": [
    "#divding data into training and testing\n",
    "from sklearn.model_selection import train_test_split\n",
    "x_train,x_test,y_train,y_test=train_test_split(x,y,test_size=.4)"
   ]
  },
  {
   "cell_type": "code",
   "execution_count": 10,
   "id": "5e4dafca",
   "metadata": {},
   "outputs": [],
   "source": [
    "classifier.train(x_train,y_train,epochs=1000)"
   ]
  },
  {
   "cell_type": "code",
   "execution_count": 11,
   "id": "80a041a5",
   "metadata": {},
   "outputs": [],
   "source": [
    "y_pred = classifier.predict(x_test)"
   ]
  },
  {
   "cell_type": "code",
   "execution_count": 12,
   "id": "698712d9",
   "metadata": {},
   "outputs": [
    {
     "data": {
      "text/plain": [
       "array([0, 0, 0, ..., 0, 0, 0])"
      ]
     },
     "execution_count": 12,
     "metadata": {},
     "output_type": "execute_result"
    }
   ],
   "source": [
    "y_pred"
   ]
  },
  {
   "cell_type": "code",
   "execution_count": 13,
   "id": "f6e71273",
   "metadata": {},
   "outputs": [
    {
     "name": "stdout",
     "output_type": "stream",
     "text": [
      "0.7567567567567568\n"
     ]
    }
   ],
   "source": [
    "from sklearn.metrics import accuracy_score\n",
    "print(accuracy_score(y_test, y_pred))"
   ]
  },
  {
   "cell_type": "code",
   "execution_count": null,
   "id": "926df4fe",
   "metadata": {},
   "outputs": [],
   "source": []
  }
 ],
 "metadata": {
  "kernelspec": {
   "display_name": "Python 3",
   "language": "python",
   "name": "python3"
  },
  "language_info": {
   "codemirror_mode": {
    "name": "ipython",
    "version": 3
   },
   "file_extension": ".py",
   "mimetype": "text/x-python",
   "name": "python",
   "nbconvert_exporter": "python",
   "pygments_lexer": "ipython3",
   "version": "3.8.8"
  }
 },
 "nbformat": 4,
 "nbformat_minor": 5
}
