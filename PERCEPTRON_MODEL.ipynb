{
 "cells": [
  {
   "cell_type": "markdown",
   "id": "d517d095",
   "metadata": {},
   "source": [
    "# Data Preprocessing"
   ]
  },
  {
   "cell_type": "code",
   "execution_count": 2,
   "id": "82626242",
   "metadata": {},
   "outputs": [],
   "source": [
    "#imporitng the libraries\n",
    "import pandas as pd\n",
    "import numpy as np\n",
    "import matplotlib.pyplot as plt\n",
    "from sklearn.svm import SVC"
   ]
  },
  {
   "cell_type": "code",
   "execution_count": 3,
   "id": "17192396",
   "metadata": {},
   "outputs": [],
   "source": [
    "pd.set_option('display.max_columns',100)  #to display all columns in dataframe."
   ]
  },
  {
   "cell_type": "code",
   "execution_count": 4,
   "id": "d9a18d8a",
   "metadata": {},
   "outputs": [
    {
     "data": {
      "text/html": [
       "<div>\n",
       "<style scoped>\n",
       "    .dataframe tbody tr th:only-of-type {\n",
       "        vertical-align: middle;\n",
       "    }\n",
       "\n",
       "    .dataframe tbody tr th {\n",
       "        vertical-align: top;\n",
       "    }\n",
       "\n",
       "    .dataframe thead th {\n",
       "        text-align: right;\n",
       "    }\n",
       "</style>\n",
       "<table border=\"1\" class=\"dataframe\">\n",
       "  <thead>\n",
       "    <tr style=\"text-align: right;\">\n",
       "      <th></th>\n",
       "      <th>User id</th>\n",
       "      <th>churches</th>\n",
       "      <th>resorts</th>\n",
       "      <th>beaches</th>\n",
       "      <th>parks</th>\n",
       "      <th>theatres</th>\n",
       "      <th>museums</th>\n",
       "      <th>malls</th>\n",
       "      <th>zoo</th>\n",
       "      <th>restaurants</th>\n",
       "      <th>pubs/bars</th>\n",
       "      <th>local services</th>\n",
       "      <th>burger/pizza shops</th>\n",
       "      <th>hotels/otherlodgings</th>\n",
       "      <th>juice bars</th>\n",
       "      <th>art galleries</th>\n",
       "      <th>dance clubs</th>\n",
       "      <th>swimming pools</th>\n",
       "      <th>gyms</th>\n",
       "      <th>bakeries</th>\n",
       "      <th>beauty &amp; spas</th>\n",
       "      <th>cafes</th>\n",
       "      <th>viewpoints</th>\n",
       "      <th>monuments</th>\n",
       "      <th>gardens</th>\n",
       "      <th>Unnamed: 25</th>\n",
       "    </tr>\n",
       "  </thead>\n",
       "  <tbody>\n",
       "    <tr>\n",
       "      <th>0</th>\n",
       "      <td>User 1</td>\n",
       "      <td>0.0</td>\n",
       "      <td>0.0</td>\n",
       "      <td>3.63</td>\n",
       "      <td>3.65</td>\n",
       "      <td>5.0</td>\n",
       "      <td>2.92</td>\n",
       "      <td>5.0</td>\n",
       "      <td>2.35</td>\n",
       "      <td>2.33</td>\n",
       "      <td>2.64</td>\n",
       "      <td>1.7</td>\n",
       "      <td>1.69</td>\n",
       "      <td>1.7</td>\n",
       "      <td>1.72</td>\n",
       "      <td>1.74</td>\n",
       "      <td>0.59</td>\n",
       "      <td>0.5</td>\n",
       "      <td>0.0</td>\n",
       "      <td>0.5</td>\n",
       "      <td>0.0</td>\n",
       "      <td>0.0</td>\n",
       "      <td>0.0</td>\n",
       "      <td>0.0</td>\n",
       "      <td>0.0</td>\n",
       "      <td>NaN</td>\n",
       "    </tr>\n",
       "    <tr>\n",
       "      <th>1</th>\n",
       "      <td>User 2</td>\n",
       "      <td>0.0</td>\n",
       "      <td>0.0</td>\n",
       "      <td>3.63</td>\n",
       "      <td>3.65</td>\n",
       "      <td>5.0</td>\n",
       "      <td>2.92</td>\n",
       "      <td>5.0</td>\n",
       "      <td>2.64</td>\n",
       "      <td>2.33</td>\n",
       "      <td>2.65</td>\n",
       "      <td>1.7</td>\n",
       "      <td>1.69</td>\n",
       "      <td>1.7</td>\n",
       "      <td>1.72</td>\n",
       "      <td>1.74</td>\n",
       "      <td>0.59</td>\n",
       "      <td>0.5</td>\n",
       "      <td>0.0</td>\n",
       "      <td>0.5</td>\n",
       "      <td>0.0</td>\n",
       "      <td>0.0</td>\n",
       "      <td>0.0</td>\n",
       "      <td>0.0</td>\n",
       "      <td>0.0</td>\n",
       "      <td>NaN</td>\n",
       "    </tr>\n",
       "    <tr>\n",
       "      <th>2</th>\n",
       "      <td>User 3</td>\n",
       "      <td>0.0</td>\n",
       "      <td>0.0</td>\n",
       "      <td>3.63</td>\n",
       "      <td>3.63</td>\n",
       "      <td>5.0</td>\n",
       "      <td>2.92</td>\n",
       "      <td>5.0</td>\n",
       "      <td>2.64</td>\n",
       "      <td>2.33</td>\n",
       "      <td>2.64</td>\n",
       "      <td>1.7</td>\n",
       "      <td>1.69</td>\n",
       "      <td>1.7</td>\n",
       "      <td>1.72</td>\n",
       "      <td>1.74</td>\n",
       "      <td>0.59</td>\n",
       "      <td>0.5</td>\n",
       "      <td>0.0</td>\n",
       "      <td>0.5</td>\n",
       "      <td>0.0</td>\n",
       "      <td>0.0</td>\n",
       "      <td>0.0</td>\n",
       "      <td>0.0</td>\n",
       "      <td>0.0</td>\n",
       "      <td>NaN</td>\n",
       "    </tr>\n",
       "    <tr>\n",
       "      <th>3</th>\n",
       "      <td>User 4</td>\n",
       "      <td>0.0</td>\n",
       "      <td>0.5</td>\n",
       "      <td>3.63</td>\n",
       "      <td>3.63</td>\n",
       "      <td>5.0</td>\n",
       "      <td>2.92</td>\n",
       "      <td>5.0</td>\n",
       "      <td>2.35</td>\n",
       "      <td>2.33</td>\n",
       "      <td>2.64</td>\n",
       "      <td>1.73</td>\n",
       "      <td>1.69</td>\n",
       "      <td>1.7</td>\n",
       "      <td>1.72</td>\n",
       "      <td>1.74</td>\n",
       "      <td>0.59</td>\n",
       "      <td>0.5</td>\n",
       "      <td>0.0</td>\n",
       "      <td>0.5</td>\n",
       "      <td>0.0</td>\n",
       "      <td>0.0</td>\n",
       "      <td>0.0</td>\n",
       "      <td>0.0</td>\n",
       "      <td>0.0</td>\n",
       "      <td>NaN</td>\n",
       "    </tr>\n",
       "    <tr>\n",
       "      <th>4</th>\n",
       "      <td>User 5</td>\n",
       "      <td>0.0</td>\n",
       "      <td>0.0</td>\n",
       "      <td>3.63</td>\n",
       "      <td>3.63</td>\n",
       "      <td>5.0</td>\n",
       "      <td>2.92</td>\n",
       "      <td>5.0</td>\n",
       "      <td>2.64</td>\n",
       "      <td>2.33</td>\n",
       "      <td>2.64</td>\n",
       "      <td>1.7</td>\n",
       "      <td>1.69</td>\n",
       "      <td>1.7</td>\n",
       "      <td>1.72</td>\n",
       "      <td>1.74</td>\n",
       "      <td>0.59</td>\n",
       "      <td>0.5</td>\n",
       "      <td>0.0</td>\n",
       "      <td>0.5</td>\n",
       "      <td>0.0</td>\n",
       "      <td>0.0</td>\n",
       "      <td>0.0</td>\n",
       "      <td>0.0</td>\n",
       "      <td>0.0</td>\n",
       "      <td>NaN</td>\n",
       "    </tr>\n",
       "  </tbody>\n",
       "</table>\n",
       "</div>"
      ],
      "text/plain": [
       "  User id  churches  resorts  beaches  parks  theatres  museums  malls   zoo  \\\n",
       "0  User 1       0.0      0.0     3.63   3.65       5.0     2.92    5.0  2.35   \n",
       "1  User 2       0.0      0.0     3.63   3.65       5.0     2.92    5.0  2.64   \n",
       "2  User 3       0.0      0.0     3.63   3.63       5.0     2.92    5.0  2.64   \n",
       "3  User 4       0.0      0.5     3.63   3.63       5.0     2.92    5.0  2.35   \n",
       "4  User 5       0.0      0.0     3.63   3.63       5.0     2.92    5.0  2.64   \n",
       "\n",
       "   restaurants  pubs/bars local services  burger/pizza shops  \\\n",
       "0         2.33       2.64            1.7                1.69   \n",
       "1         2.33       2.65            1.7                1.69   \n",
       "2         2.33       2.64            1.7                1.69   \n",
       "3         2.33       2.64           1.73                1.69   \n",
       "4         2.33       2.64            1.7                1.69   \n",
       "\n",
       "   hotels/otherlodgings  juice bars  art galleries  dance clubs  \\\n",
       "0                   1.7        1.72           1.74         0.59   \n",
       "1                   1.7        1.72           1.74         0.59   \n",
       "2                   1.7        1.72           1.74         0.59   \n",
       "3                   1.7        1.72           1.74         0.59   \n",
       "4                   1.7        1.72           1.74         0.59   \n",
       "\n",
       "   swimming pools  gyms  bakeries  beauty & spas  cafes  viewpoints  \\\n",
       "0             0.5   0.0       0.5            0.0    0.0         0.0   \n",
       "1             0.5   0.0       0.5            0.0    0.0         0.0   \n",
       "2             0.5   0.0       0.5            0.0    0.0         0.0   \n",
       "3             0.5   0.0       0.5            0.0    0.0         0.0   \n",
       "4             0.5   0.0       0.5            0.0    0.0         0.0   \n",
       "\n",
       "   monuments  gardens  Unnamed: 25  \n",
       "0        0.0      0.0          NaN  \n",
       "1        0.0      0.0          NaN  \n",
       "2        0.0      0.0          NaN  \n",
       "3        0.0      0.0          NaN  \n",
       "4        0.0      0.0          NaN  "
      ]
     },
     "execution_count": 4,
     "metadata": {},
     "output_type": "execute_result"
    }
   ],
   "source": [
    "#importing the csv file\n",
    "df = pd.read_csv(\"google_review_ratings.csv\")\n",
    "df.head()"
   ]
  },
  {
   "cell_type": "code",
   "execution_count": 5,
   "id": "b9d74e08",
   "metadata": {},
   "outputs": [],
   "source": [
    "df = df.drop(['User id', 'Unnamed: 25'], axis = 1)  #dropping useless columns"
   ]
  },
  {
   "cell_type": "code",
   "execution_count": 6,
   "id": "c931902e",
   "metadata": {},
   "outputs": [],
   "source": [
    "df.index = np.arange(1,len(df)+1) #indexing the columns from 1 instead of 0"
   ]
  },
  {
   "cell_type": "code",
   "execution_count": 7,
   "id": "a0d3c15d",
   "metadata": {},
   "outputs": [
    {
     "data": {
      "text/html": [
       "<div>\n",
       "<style scoped>\n",
       "    .dataframe tbody tr th:only-of-type {\n",
       "        vertical-align: middle;\n",
       "    }\n",
       "\n",
       "    .dataframe tbody tr th {\n",
       "        vertical-align: top;\n",
       "    }\n",
       "\n",
       "    .dataframe thead th {\n",
       "        text-align: right;\n",
       "    }\n",
       "</style>\n",
       "<table border=\"1\" class=\"dataframe\">\n",
       "  <thead>\n",
       "    <tr style=\"text-align: right;\">\n",
       "      <th></th>\n",
       "      <th>churches</th>\n",
       "      <th>resorts</th>\n",
       "      <th>beaches</th>\n",
       "      <th>parks</th>\n",
       "      <th>theatres</th>\n",
       "      <th>museums</th>\n",
       "      <th>malls</th>\n",
       "      <th>zoo</th>\n",
       "      <th>restaurants</th>\n",
       "      <th>pubs/bars</th>\n",
       "      <th>local services</th>\n",
       "      <th>burger/pizza shops</th>\n",
       "      <th>hotels/otherlodgings</th>\n",
       "      <th>juice bars</th>\n",
       "      <th>art galleries</th>\n",
       "      <th>dance clubs</th>\n",
       "      <th>swimming pools</th>\n",
       "      <th>gyms</th>\n",
       "      <th>bakeries</th>\n",
       "      <th>beauty &amp; spas</th>\n",
       "      <th>cafes</th>\n",
       "      <th>viewpoints</th>\n",
       "      <th>monuments</th>\n",
       "      <th>gardens</th>\n",
       "    </tr>\n",
       "  </thead>\n",
       "  <tbody>\n",
       "    <tr>\n",
       "      <th>1</th>\n",
       "      <td>0.0</td>\n",
       "      <td>0.0</td>\n",
       "      <td>3.63</td>\n",
       "      <td>3.65</td>\n",
       "      <td>5.0</td>\n",
       "      <td>2.92</td>\n",
       "      <td>5.0</td>\n",
       "      <td>2.35</td>\n",
       "      <td>2.33</td>\n",
       "      <td>2.64</td>\n",
       "      <td>1.7</td>\n",
       "      <td>1.69</td>\n",
       "      <td>1.7</td>\n",
       "      <td>1.72</td>\n",
       "      <td>1.74</td>\n",
       "      <td>0.59</td>\n",
       "      <td>0.5</td>\n",
       "      <td>0.0</td>\n",
       "      <td>0.5</td>\n",
       "      <td>0.0</td>\n",
       "      <td>0.0</td>\n",
       "      <td>0.0</td>\n",
       "      <td>0.0</td>\n",
       "      <td>0.0</td>\n",
       "    </tr>\n",
       "    <tr>\n",
       "      <th>2</th>\n",
       "      <td>0.0</td>\n",
       "      <td>0.0</td>\n",
       "      <td>3.63</td>\n",
       "      <td>3.65</td>\n",
       "      <td>5.0</td>\n",
       "      <td>2.92</td>\n",
       "      <td>5.0</td>\n",
       "      <td>2.64</td>\n",
       "      <td>2.33</td>\n",
       "      <td>2.65</td>\n",
       "      <td>1.7</td>\n",
       "      <td>1.69</td>\n",
       "      <td>1.7</td>\n",
       "      <td>1.72</td>\n",
       "      <td>1.74</td>\n",
       "      <td>0.59</td>\n",
       "      <td>0.5</td>\n",
       "      <td>0.0</td>\n",
       "      <td>0.5</td>\n",
       "      <td>0.0</td>\n",
       "      <td>0.0</td>\n",
       "      <td>0.0</td>\n",
       "      <td>0.0</td>\n",
       "      <td>0.0</td>\n",
       "    </tr>\n",
       "    <tr>\n",
       "      <th>3</th>\n",
       "      <td>0.0</td>\n",
       "      <td>0.0</td>\n",
       "      <td>3.63</td>\n",
       "      <td>3.63</td>\n",
       "      <td>5.0</td>\n",
       "      <td>2.92</td>\n",
       "      <td>5.0</td>\n",
       "      <td>2.64</td>\n",
       "      <td>2.33</td>\n",
       "      <td>2.64</td>\n",
       "      <td>1.7</td>\n",
       "      <td>1.69</td>\n",
       "      <td>1.7</td>\n",
       "      <td>1.72</td>\n",
       "      <td>1.74</td>\n",
       "      <td>0.59</td>\n",
       "      <td>0.5</td>\n",
       "      <td>0.0</td>\n",
       "      <td>0.5</td>\n",
       "      <td>0.0</td>\n",
       "      <td>0.0</td>\n",
       "      <td>0.0</td>\n",
       "      <td>0.0</td>\n",
       "      <td>0.0</td>\n",
       "    </tr>\n",
       "    <tr>\n",
       "      <th>4</th>\n",
       "      <td>0.0</td>\n",
       "      <td>0.5</td>\n",
       "      <td>3.63</td>\n",
       "      <td>3.63</td>\n",
       "      <td>5.0</td>\n",
       "      <td>2.92</td>\n",
       "      <td>5.0</td>\n",
       "      <td>2.35</td>\n",
       "      <td>2.33</td>\n",
       "      <td>2.64</td>\n",
       "      <td>1.73</td>\n",
       "      <td>1.69</td>\n",
       "      <td>1.7</td>\n",
       "      <td>1.72</td>\n",
       "      <td>1.74</td>\n",
       "      <td>0.59</td>\n",
       "      <td>0.5</td>\n",
       "      <td>0.0</td>\n",
       "      <td>0.5</td>\n",
       "      <td>0.0</td>\n",
       "      <td>0.0</td>\n",
       "      <td>0.0</td>\n",
       "      <td>0.0</td>\n",
       "      <td>0.0</td>\n",
       "    </tr>\n",
       "    <tr>\n",
       "      <th>5</th>\n",
       "      <td>0.0</td>\n",
       "      <td>0.0</td>\n",
       "      <td>3.63</td>\n",
       "      <td>3.63</td>\n",
       "      <td>5.0</td>\n",
       "      <td>2.92</td>\n",
       "      <td>5.0</td>\n",
       "      <td>2.64</td>\n",
       "      <td>2.33</td>\n",
       "      <td>2.64</td>\n",
       "      <td>1.7</td>\n",
       "      <td>1.69</td>\n",
       "      <td>1.7</td>\n",
       "      <td>1.72</td>\n",
       "      <td>1.74</td>\n",
       "      <td>0.59</td>\n",
       "      <td>0.5</td>\n",
       "      <td>0.0</td>\n",
       "      <td>0.5</td>\n",
       "      <td>0.0</td>\n",
       "      <td>0.0</td>\n",
       "      <td>0.0</td>\n",
       "      <td>0.0</td>\n",
       "      <td>0.0</td>\n",
       "    </tr>\n",
       "  </tbody>\n",
       "</table>\n",
       "</div>"
      ],
      "text/plain": [
       "   churches  resorts  beaches  parks  theatres  museums  malls   zoo  \\\n",
       "1       0.0      0.0     3.63   3.65       5.0     2.92    5.0  2.35   \n",
       "2       0.0      0.0     3.63   3.65       5.0     2.92    5.0  2.64   \n",
       "3       0.0      0.0     3.63   3.63       5.0     2.92    5.0  2.64   \n",
       "4       0.0      0.5     3.63   3.63       5.0     2.92    5.0  2.35   \n",
       "5       0.0      0.0     3.63   3.63       5.0     2.92    5.0  2.64   \n",
       "\n",
       "   restaurants  pubs/bars local services  burger/pizza shops  \\\n",
       "1         2.33       2.64            1.7                1.69   \n",
       "2         2.33       2.65            1.7                1.69   \n",
       "3         2.33       2.64            1.7                1.69   \n",
       "4         2.33       2.64           1.73                1.69   \n",
       "5         2.33       2.64            1.7                1.69   \n",
       "\n",
       "   hotels/otherlodgings  juice bars  art galleries  dance clubs  \\\n",
       "1                   1.7        1.72           1.74         0.59   \n",
       "2                   1.7        1.72           1.74         0.59   \n",
       "3                   1.7        1.72           1.74         0.59   \n",
       "4                   1.7        1.72           1.74         0.59   \n",
       "5                   1.7        1.72           1.74         0.59   \n",
       "\n",
       "   swimming pools  gyms  bakeries  beauty & spas  cafes  viewpoints  \\\n",
       "1             0.5   0.0       0.5            0.0    0.0         0.0   \n",
       "2             0.5   0.0       0.5            0.0    0.0         0.0   \n",
       "3             0.5   0.0       0.5            0.0    0.0         0.0   \n",
       "4             0.5   0.0       0.5            0.0    0.0         0.0   \n",
       "5             0.5   0.0       0.5            0.0    0.0         0.0   \n",
       "\n",
       "   monuments  gardens  \n",
       "1        0.0      0.0  \n",
       "2        0.0      0.0  \n",
       "3        0.0      0.0  \n",
       "4        0.0      0.0  \n",
       "5        0.0      0.0  "
      ]
     },
     "execution_count": 7,
     "metadata": {},
     "output_type": "execute_result"
    }
   ],
   "source": [
    "df.head()"
   ]
  },
  {
   "cell_type": "code",
   "execution_count": 8,
   "id": "9e3edcba",
   "metadata": {
    "scrolled": true
   },
   "outputs": [
    {
     "data": {
      "text/html": [
       "<div>\n",
       "<style scoped>\n",
       "    .dataframe tbody tr th:only-of-type {\n",
       "        vertical-align: middle;\n",
       "    }\n",
       "\n",
       "    .dataframe tbody tr th {\n",
       "        vertical-align: top;\n",
       "    }\n",
       "\n",
       "    .dataframe thead th {\n",
       "        text-align: right;\n",
       "    }\n",
       "</style>\n",
       "<table border=\"1\" class=\"dataframe\">\n",
       "  <thead>\n",
       "    <tr style=\"text-align: right;\">\n",
       "      <th></th>\n",
       "      <th>churches</th>\n",
       "      <th>resorts</th>\n",
       "      <th>beaches</th>\n",
       "      <th>parks</th>\n",
       "      <th>theatres</th>\n",
       "      <th>museums</th>\n",
       "      <th>malls</th>\n",
       "      <th>zoo</th>\n",
       "      <th>restaurants</th>\n",
       "      <th>pubs/bars</th>\n",
       "      <th>burger/pizza shops</th>\n",
       "      <th>hotels/otherlodgings</th>\n",
       "      <th>juice bars</th>\n",
       "      <th>art galleries</th>\n",
       "      <th>dance clubs</th>\n",
       "      <th>swimming pools</th>\n",
       "      <th>gyms</th>\n",
       "      <th>bakeries</th>\n",
       "      <th>beauty &amp; spas</th>\n",
       "      <th>cafes</th>\n",
       "      <th>viewpoints</th>\n",
       "      <th>monuments</th>\n",
       "      <th>gardens</th>\n",
       "    </tr>\n",
       "  </thead>\n",
       "  <tbody>\n",
       "    <tr>\n",
       "      <th>count</th>\n",
       "      <td>5456.000000</td>\n",
       "      <td>5456.000000</td>\n",
       "      <td>5456.000000</td>\n",
       "      <td>5456.000000</td>\n",
       "      <td>5456.000000</td>\n",
       "      <td>5456.00000</td>\n",
       "      <td>5456.000000</td>\n",
       "      <td>5456.000000</td>\n",
       "      <td>5456.000000</td>\n",
       "      <td>5456.000000</td>\n",
       "      <td>5455.000000</td>\n",
       "      <td>5456.000000</td>\n",
       "      <td>5456.000000</td>\n",
       "      <td>5456.000000</td>\n",
       "      <td>5456.000000</td>\n",
       "      <td>5456.000000</td>\n",
       "      <td>5456.000000</td>\n",
       "      <td>5456.000000</td>\n",
       "      <td>5456.000000</td>\n",
       "      <td>5456.000000</td>\n",
       "      <td>5456.000000</td>\n",
       "      <td>5456.000000</td>\n",
       "      <td>5455.000000</td>\n",
       "    </tr>\n",
       "    <tr>\n",
       "      <th>mean</th>\n",
       "      <td>1.455720</td>\n",
       "      <td>2.319707</td>\n",
       "      <td>2.489331</td>\n",
       "      <td>2.796886</td>\n",
       "      <td>2.958941</td>\n",
       "      <td>2.89349</td>\n",
       "      <td>3.351395</td>\n",
       "      <td>2.540795</td>\n",
       "      <td>3.126019</td>\n",
       "      <td>2.832729</td>\n",
       "      <td>2.078339</td>\n",
       "      <td>2.125511</td>\n",
       "      <td>2.190861</td>\n",
       "      <td>2.206573</td>\n",
       "      <td>1.192801</td>\n",
       "      <td>0.949203</td>\n",
       "      <td>0.822414</td>\n",
       "      <td>0.969811</td>\n",
       "      <td>1.000071</td>\n",
       "      <td>0.965838</td>\n",
       "      <td>1.750537</td>\n",
       "      <td>1.531453</td>\n",
       "      <td>1.560755</td>\n",
       "    </tr>\n",
       "    <tr>\n",
       "      <th>std</th>\n",
       "      <td>0.827604</td>\n",
       "      <td>1.421438</td>\n",
       "      <td>1.247815</td>\n",
       "      <td>1.309159</td>\n",
       "      <td>1.339056</td>\n",
       "      <td>1.28240</td>\n",
       "      <td>1.413492</td>\n",
       "      <td>1.111391</td>\n",
       "      <td>1.356802</td>\n",
       "      <td>1.307665</td>\n",
       "      <td>1.249208</td>\n",
       "      <td>1.406542</td>\n",
       "      <td>1.576686</td>\n",
       "      <td>1.715961</td>\n",
       "      <td>1.107005</td>\n",
       "      <td>0.973536</td>\n",
       "      <td>0.947911</td>\n",
       "      <td>1.203972</td>\n",
       "      <td>1.193891</td>\n",
       "      <td>0.929853</td>\n",
       "      <td>1.598734</td>\n",
       "      <td>1.316889</td>\n",
       "      <td>1.171756</td>\n",
       "    </tr>\n",
       "    <tr>\n",
       "      <th>min</th>\n",
       "      <td>0.000000</td>\n",
       "      <td>0.000000</td>\n",
       "      <td>0.000000</td>\n",
       "      <td>0.830000</td>\n",
       "      <td>1.120000</td>\n",
       "      <td>1.11000</td>\n",
       "      <td>1.120000</td>\n",
       "      <td>0.860000</td>\n",
       "      <td>0.840000</td>\n",
       "      <td>0.810000</td>\n",
       "      <td>0.780000</td>\n",
       "      <td>0.770000</td>\n",
       "      <td>0.760000</td>\n",
       "      <td>0.000000</td>\n",
       "      <td>0.000000</td>\n",
       "      <td>0.000000</td>\n",
       "      <td>0.000000</td>\n",
       "      <td>0.000000</td>\n",
       "      <td>0.000000</td>\n",
       "      <td>0.000000</td>\n",
       "      <td>0.000000</td>\n",
       "      <td>0.000000</td>\n",
       "      <td>0.000000</td>\n",
       "    </tr>\n",
       "    <tr>\n",
       "      <th>25%</th>\n",
       "      <td>0.920000</td>\n",
       "      <td>1.360000</td>\n",
       "      <td>1.540000</td>\n",
       "      <td>1.730000</td>\n",
       "      <td>1.770000</td>\n",
       "      <td>1.79000</td>\n",
       "      <td>1.930000</td>\n",
       "      <td>1.620000</td>\n",
       "      <td>1.800000</td>\n",
       "      <td>1.640000</td>\n",
       "      <td>1.290000</td>\n",
       "      <td>1.190000</td>\n",
       "      <td>1.030000</td>\n",
       "      <td>0.860000</td>\n",
       "      <td>0.690000</td>\n",
       "      <td>0.580000</td>\n",
       "      <td>0.530000</td>\n",
       "      <td>0.520000</td>\n",
       "      <td>0.540000</td>\n",
       "      <td>0.570000</td>\n",
       "      <td>0.740000</td>\n",
       "      <td>0.790000</td>\n",
       "      <td>0.880000</td>\n",
       "    </tr>\n",
       "    <tr>\n",
       "      <th>50%</th>\n",
       "      <td>1.340000</td>\n",
       "      <td>1.905000</td>\n",
       "      <td>2.060000</td>\n",
       "      <td>2.460000</td>\n",
       "      <td>2.670000</td>\n",
       "      <td>2.68000</td>\n",
       "      <td>3.230000</td>\n",
       "      <td>2.170000</td>\n",
       "      <td>2.800000</td>\n",
       "      <td>2.680000</td>\n",
       "      <td>1.690000</td>\n",
       "      <td>1.610000</td>\n",
       "      <td>1.490000</td>\n",
       "      <td>1.330000</td>\n",
       "      <td>0.800000</td>\n",
       "      <td>0.740000</td>\n",
       "      <td>0.690000</td>\n",
       "      <td>0.690000</td>\n",
       "      <td>0.690000</td>\n",
       "      <td>0.760000</td>\n",
       "      <td>1.030000</td>\n",
       "      <td>1.070000</td>\n",
       "      <td>1.290000</td>\n",
       "    </tr>\n",
       "    <tr>\n",
       "      <th>75%</th>\n",
       "      <td>1.810000</td>\n",
       "      <td>2.682500</td>\n",
       "      <td>2.740000</td>\n",
       "      <td>4.092500</td>\n",
       "      <td>4.312500</td>\n",
       "      <td>3.84000</td>\n",
       "      <td>5.000000</td>\n",
       "      <td>3.190000</td>\n",
       "      <td>5.000000</td>\n",
       "      <td>3.530000</td>\n",
       "      <td>2.285000</td>\n",
       "      <td>2.360000</td>\n",
       "      <td>2.740000</td>\n",
       "      <td>4.440000</td>\n",
       "      <td>1.160000</td>\n",
       "      <td>0.910000</td>\n",
       "      <td>0.840000</td>\n",
       "      <td>0.860000</td>\n",
       "      <td>0.860000</td>\n",
       "      <td>1.000000</td>\n",
       "      <td>2.070000</td>\n",
       "      <td>1.560000</td>\n",
       "      <td>1.660000</td>\n",
       "    </tr>\n",
       "    <tr>\n",
       "      <th>max</th>\n",
       "      <td>5.000000</td>\n",
       "      <td>5.000000</td>\n",
       "      <td>5.000000</td>\n",
       "      <td>5.000000</td>\n",
       "      <td>5.000000</td>\n",
       "      <td>5.00000</td>\n",
       "      <td>5.000000</td>\n",
       "      <td>5.000000</td>\n",
       "      <td>5.000000</td>\n",
       "      <td>5.000000</td>\n",
       "      <td>5.000000</td>\n",
       "      <td>5.000000</td>\n",
       "      <td>5.000000</td>\n",
       "      <td>5.000000</td>\n",
       "      <td>5.000000</td>\n",
       "      <td>5.000000</td>\n",
       "      <td>5.000000</td>\n",
       "      <td>5.000000</td>\n",
       "      <td>5.000000</td>\n",
       "      <td>5.000000</td>\n",
       "      <td>5.000000</td>\n",
       "      <td>5.000000</td>\n",
       "      <td>5.000000</td>\n",
       "    </tr>\n",
       "  </tbody>\n",
       "</table>\n",
       "</div>"
      ],
      "text/plain": [
       "          churches      resorts      beaches        parks     theatres  \\\n",
       "count  5456.000000  5456.000000  5456.000000  5456.000000  5456.000000   \n",
       "mean      1.455720     2.319707     2.489331     2.796886     2.958941   \n",
       "std       0.827604     1.421438     1.247815     1.309159     1.339056   \n",
       "min       0.000000     0.000000     0.000000     0.830000     1.120000   \n",
       "25%       0.920000     1.360000     1.540000     1.730000     1.770000   \n",
       "50%       1.340000     1.905000     2.060000     2.460000     2.670000   \n",
       "75%       1.810000     2.682500     2.740000     4.092500     4.312500   \n",
       "max       5.000000     5.000000     5.000000     5.000000     5.000000   \n",
       "\n",
       "          museums        malls          zoo  restaurants    pubs/bars  \\\n",
       "count  5456.00000  5456.000000  5456.000000  5456.000000  5456.000000   \n",
       "mean      2.89349     3.351395     2.540795     3.126019     2.832729   \n",
       "std       1.28240     1.413492     1.111391     1.356802     1.307665   \n",
       "min       1.11000     1.120000     0.860000     0.840000     0.810000   \n",
       "25%       1.79000     1.930000     1.620000     1.800000     1.640000   \n",
       "50%       2.68000     3.230000     2.170000     2.800000     2.680000   \n",
       "75%       3.84000     5.000000     3.190000     5.000000     3.530000   \n",
       "max       5.00000     5.000000     5.000000     5.000000     5.000000   \n",
       "\n",
       "       burger/pizza shops  hotels/otherlodgings   juice bars  art galleries  \\\n",
       "count         5455.000000           5456.000000  5456.000000    5456.000000   \n",
       "mean             2.078339              2.125511     2.190861       2.206573   \n",
       "std              1.249208              1.406542     1.576686       1.715961   \n",
       "min              0.780000              0.770000     0.760000       0.000000   \n",
       "25%              1.290000              1.190000     1.030000       0.860000   \n",
       "50%              1.690000              1.610000     1.490000       1.330000   \n",
       "75%              2.285000              2.360000     2.740000       4.440000   \n",
       "max              5.000000              5.000000     5.000000       5.000000   \n",
       "\n",
       "       dance clubs  swimming pools         gyms     bakeries  beauty & spas  \\\n",
       "count  5456.000000     5456.000000  5456.000000  5456.000000    5456.000000   \n",
       "mean      1.192801        0.949203     0.822414     0.969811       1.000071   \n",
       "std       1.107005        0.973536     0.947911     1.203972       1.193891   \n",
       "min       0.000000        0.000000     0.000000     0.000000       0.000000   \n",
       "25%       0.690000        0.580000     0.530000     0.520000       0.540000   \n",
       "50%       0.800000        0.740000     0.690000     0.690000       0.690000   \n",
       "75%       1.160000        0.910000     0.840000     0.860000       0.860000   \n",
       "max       5.000000        5.000000     5.000000     5.000000       5.000000   \n",
       "\n",
       "             cafes   viewpoints    monuments      gardens  \n",
       "count  5456.000000  5456.000000  5456.000000  5455.000000  \n",
       "mean      0.965838     1.750537     1.531453     1.560755  \n",
       "std       0.929853     1.598734     1.316889     1.171756  \n",
       "min       0.000000     0.000000     0.000000     0.000000  \n",
       "25%       0.570000     0.740000     0.790000     0.880000  \n",
       "50%       0.760000     1.030000     1.070000     1.290000  \n",
       "75%       1.000000     2.070000     1.560000     1.660000  \n",
       "max       5.000000     5.000000     5.000000     5.000000  "
      ]
     },
     "execution_count": 8,
     "metadata": {},
     "output_type": "execute_result"
    }
   ],
   "source": [
    "df.describe()"
   ]
  },
  {
   "cell_type": "code",
   "execution_count": 9,
   "id": "44f3b98b",
   "metadata": {},
   "outputs": [],
   "source": [
    "column_names = df.columns #saving columns to 'column_names' variable"
   ]
  },
  {
   "cell_type": "code",
   "execution_count": 10,
   "id": "4c388474",
   "metadata": {},
   "outputs": [
    {
     "data": {
      "text/plain": [
       "churches                0\n",
       "resorts                 0\n",
       "beaches                 0\n",
       "parks                   0\n",
       "theatres                0\n",
       "museums                 0\n",
       "malls                   0\n",
       "zoo                     0\n",
       "restaurants             0\n",
       "pubs/bars               0\n",
       "local services          0\n",
       "burger/pizza shops      1\n",
       "hotels/otherlodgings    0\n",
       "juice bars              0\n",
       "art galleries           0\n",
       "dance clubs             0\n",
       "swimming pools          0\n",
       "gyms                    0\n",
       "bakeries                0\n",
       "beauty & spas           0\n",
       "cafes                   0\n",
       "viewpoints              0\n",
       "monuments               0\n",
       "gardens                 1\n",
       "dtype: int64"
      ]
     },
     "execution_count": 10,
     "metadata": {},
     "output_type": "execute_result"
    }
   ],
   "source": [
    "df[column_names].isnull().sum()  #finding null values in dataset"
   ]
  },
  {
   "cell_type": "code",
   "execution_count": 11,
   "id": "edd00b72",
   "metadata": {},
   "outputs": [],
   "source": [
    "df = df.fillna(0)    #filling all null values with 0"
   ]
  },
  {
   "cell_type": "code",
   "execution_count": 12,
   "id": "a11f1c28",
   "metadata": {},
   "outputs": [
    {
     "data": {
      "text/plain": [
       "churches                float64\n",
       "resorts                 float64\n",
       "beaches                 float64\n",
       "parks                   float64\n",
       "theatres                float64\n",
       "museums                 float64\n",
       "malls                   float64\n",
       "zoo                     float64\n",
       "restaurants             float64\n",
       "pubs/bars               float64\n",
       "local services           object\n",
       "burger/pizza shops      float64\n",
       "hotels/otherlodgings    float64\n",
       "juice bars              float64\n",
       "art galleries           float64\n",
       "dance clubs             float64\n",
       "swimming pools          float64\n",
       "gyms                    float64\n",
       "bakeries                float64\n",
       "beauty & spas           float64\n",
       "cafes                   float64\n",
       "viewpoints              float64\n",
       "monuments               float64\n",
       "gardens                 float64\n",
       "dtype: object"
      ]
     },
     "execution_count": 12,
     "metadata": {},
     "output_type": "execute_result"
    }
   ],
   "source": [
    "df.dtypes   #checking datatypes"
   ]
  },
  {
   "cell_type": "code",
   "execution_count": 13,
   "id": "6467e63d",
   "metadata": {},
   "outputs": [
    {
     "data": {
      "text/plain": [
       "2713    2\\t2.\n",
       "Name: local services, dtype: object"
      ]
     },
     "execution_count": 13,
     "metadata": {},
     "output_type": "execute_result"
    }
   ],
   "source": [
    "df['local services'][df['local services'] == '2\\t2.']  #converting local services datatype i.e., object to float64"
   ]
  },
  {
   "cell_type": "code",
   "execution_count": 14,
   "id": "dcde5408",
   "metadata": {},
   "outputs": [
    {
     "name": "stderr",
     "output_type": "stream",
     "text": [
      "<ipython-input-14-852131f58e56>:2: SettingWithCopyWarning: \n",
      "A value is trying to be set on a copy of a slice from a DataFrame\n",
      "\n",
      "See the caveats in the documentation: https://pandas.pydata.org/pandas-docs/stable/user_guide/indexing.html#returning-a-view-versus-a-copy\n",
      "  df['local services'][df['local services'] == '2\\t2.'] = np.mean(local_services_mean.astype('float64'))\n"
     ]
    }
   ],
   "source": [
    "local_services_mean = df['local services'][df['local services'] != '2\\t2.']\n",
    "df['local services'][df['local services'] == '2\\t2.'] = np.mean(local_services_mean.astype('float64'))\n",
    "df['local services'] = df['local services'].astype('float64')"
   ]
  },
  {
   "cell_type": "code",
   "execution_count": 15,
   "id": "bebb9197",
   "metadata": {},
   "outputs": [
    {
     "data": {
      "text/plain": [
       "churches                float64\n",
       "resorts                 float64\n",
       "beaches                 float64\n",
       "parks                   float64\n",
       "theatres                float64\n",
       "museums                 float64\n",
       "malls                   float64\n",
       "zoo                     float64\n",
       "restaurants             float64\n",
       "pubs/bars               float64\n",
       "local services          float64\n",
       "burger/pizza shops      float64\n",
       "hotels/otherlodgings    float64\n",
       "juice bars              float64\n",
       "art galleries           float64\n",
       "dance clubs             float64\n",
       "swimming pools          float64\n",
       "gyms                    float64\n",
       "bakeries                float64\n",
       "beauty & spas           float64\n",
       "cafes                   float64\n",
       "viewpoints              float64\n",
       "monuments               float64\n",
       "gardens                 float64\n",
       "dtype: object"
      ]
     },
     "execution_count": 15,
     "metadata": {},
     "output_type": "execute_result"
    }
   ],
   "source": [
    "df.dtypes"
   ]
  },
  {
   "cell_type": "code",
   "execution_count": 16,
   "id": "95663232",
   "metadata": {},
   "outputs": [
    {
     "data": {
      "text/plain": [
       "parks                   True\n",
       "theatres                True\n",
       "museums                 True\n",
       "malls                   True\n",
       "zoo                     True\n",
       "restaurants             True\n",
       "pubs/bars               True\n",
       "local services          True\n",
       "hotels/otherlodgings    True\n",
       "juice bars              True\n",
       "Name: min, dtype: bool"
      ]
     },
     "execution_count": 16,
     "metadata": {},
     "output_type": "execute_result"
    }
   ],
   "source": [
    "df_description = df.describe()                #checking columns having minimum_value > 0\n",
    "min_val = df_description.loc['min'] > 0\n",
    "min_val[min_val]"
   ]
  },
  {
   "cell_type": "code",
   "execution_count": 25,
   "id": "901733e3",
   "metadata": {},
   "outputs": [
    {
     "data": {
      "text/plain": [
       "Text(0.5, 1.0, 'No of reviews under each category')"
      ]
     },
     "execution_count": 25,
     "metadata": {},
     "output_type": "execute_result"
    },
    {
     "data": {
      "image/png": "[encoded data removed]",
      "text/plain": [
       "<Figure size 720x504 with 1 Axes>"
      ]
     },
     "metadata": {
      "needs_background": "light"
     },
     "output_type": "display_data"
    }
   ],
   "source": [
    "#ploting horizontal bar graph\n",
    "import matplotlib.pyplot as plt       \n",
    "import numpy as np\n",
    "\n",
    "%matplotlib inline\n",
    "no_of_zeros = df[column_names[1:]].astype(bool).sum(axis=0).sort_values() \n",
    "\n",
    "plt.figure(figsize=(10,7))\n",
    "plt.barh(np.arange(len(column_names[1:])), no_of_zeros.values, align='center', alpha = 0.5)\n",
    "plt.yticks(np.arange(len(column_names[1:])), no_of_zeros.index)\n",
    "plt.xlabel('No of reviews')\n",
    "plt.ylabel('Categories')\n",
    "plt.title('No of reviews under each category')"
   ]
  },
  {
   "cell_type": "code",
   "execution_count": 26,
   "id": "9af4cb33",
   "metadata": {},
   "outputs": [
    {
     "data": {
      "text/plain": [
       "bakeries                4410\n",
       "gyms                    4439\n",
       "beauty & spas           4560\n",
       "cafes                   4852\n",
       "swimming pools          4977\n",
       "viewpoints              5111\n",
       "monuments               5154\n",
       "gardens                 5230\n",
       "dance clubs             5344\n",
       "resorts                 5366\n",
       "art galleries           5452\n",
       "beaches                 5452\n",
       "burger/pizza shops      5455\n",
       "pubs/bars               5456\n",
       "juice bars              5456\n",
       "restaurants             5456\n",
       "zoo                     5456\n",
       "malls                   5456\n",
       "museums                 5456\n",
       "theatres                5456\n",
       "parks                   5456\n",
       "local services          5456\n",
       "hotels/otherlodgings    5456\n",
       "dtype: int64"
      ]
     },
     "execution_count": 26,
     "metadata": {},
     "output_type": "execute_result"
    }
   ],
   "source": [
    "no_of_zeros"
   ]
  },
  {
   "cell_type": "markdown",
   "id": "7e8d8a83",
   "metadata": {},
   "source": [
    "\n",
    "\n",
    "\n",
    "\n",
    "\n",
    "\n",
    "\n",
    "After going through the dataset, I decided to classify every user's travel experience by taking mean of all the ratings to every place visited by them and converted them into 2 classes (0 = not so good experience & 1 = good experience)on the basis of custom threshold and adding it to dataframe as another column to the dataframe.\n",
    "\n"
   ]
  },
  {
   "cell_type": "code",
   "execution_count": 18,
   "id": "6f03375c",
   "metadata": {},
   "outputs": [
    {
     "data": {
      "text/plain": [
       "1       1.569167\n",
       "2       1.581667\n",
       "3       1.580417\n",
       "4       1.590417\n",
       "5       1.580417\n",
       "          ...   \n",
       "5452    2.262500\n",
       "5453    1.937083\n",
       "5454    2.029167\n",
       "5455    2.154167\n",
       "5456    2.052083\n",
       "Length: 5456, dtype: float64"
      ]
     },
     "execution_count": 18,
     "metadata": {},
     "output_type": "execute_result"
    }
   ],
   "source": [
    "Av_Experience = df.mean(axis=1)  # mean of each traveller's rating to each place. Thus, calculating overall experience(overall)\n",
    "Av_Experience"
   ]
  },
  {
   "cell_type": "code",
   "execution_count": 19,
   "id": "6a1e20b2",
   "metadata": {},
   "outputs": [
    {
     "data": {
      "text/plain": [
       "1       1.569167\n",
       "2       1.581667\n",
       "3       1.580417\n",
       "4       1.590417\n",
       "5       1.580417\n",
       "          ...   \n",
       "5452    2.262500\n",
       "5453    1.937083\n",
       "5454    2.029167\n",
       "5455    2.154167\n",
       "5456    2.052083\n",
       "Name: Av_Experience, Length: 5456, dtype: float64"
      ]
     },
     "execution_count": 19,
     "metadata": {},
     "output_type": "execute_result"
    }
   ],
   "source": [
    "df['Av_Experience'] = Av_Experience  #adding it to col. in specified dataframe.\n",
    "df['Av_Experience']"
   ]
  },
  {
   "cell_type": "code",
   "execution_count": 20,
   "id": "4429a3a5",
   "metadata": {},
   "outputs": [],
   "source": [
    "#applied threshold(=2) to convert numeric to bool, distingusihing b/w good and not so good experience\n",
    "e = []\n",
    "for i in df['Av_Experience']:\n",
    "    if i>2:\n",
    "        e.append(1)  # 1 = Good Experince Overall\n",
    "    else:\n",
    "        e.append(0)  # 0 = Not good Experince Overall"
   ]
  },
  {
   "cell_type": "code",
   "execution_count": 21,
   "id": "178a3c92",
   "metadata": {},
   "outputs": [
    {
     "data": {
      "text/plain": [
       "1       0\n",
       "2       0\n",
       "3       0\n",
       "4       0\n",
       "5       0\n",
       "       ..\n",
       "5452    1\n",
       "5453    0\n",
       "5454    1\n",
       "5455    1\n",
       "5456    1\n",
       "Name: Experience, Length: 5456, dtype: int64"
      ]
     },
     "execution_count": 21,
     "metadata": {},
     "output_type": "execute_result"
    }
   ],
   "source": [
    "df['Experience'] = e   #adding the above converted experience in bool to a col. in dataframe.\n",
    "df['Experience']"
   ]
  },
  {
   "cell_type": "markdown",
   "id": "fcd79921",
   "metadata": {},
   "source": [
    "# Perceptron Model"
   ]
  },
  {
   "cell_type": "code",
   "execution_count": 22,
   "id": "ce540977",
   "metadata": {},
   "outputs": [],
   "source": [
    "from sklearn.linear_model import Perceptron\n",
    "from sklearn import model_selection"
   ]
  },
  {
   "cell_type": "code",
   "execution_count": 23,
   "id": "75f12287",
   "metadata": {},
   "outputs": [],
   "source": [
    "x = df.drop(['Av_Experience', 'Experience'], axis=1)\n",
    "y = df['Experience']"
   ]
  },
  {
   "cell_type": "code",
   "execution_count": 24,
   "id": "11fd8cdc",
   "metadata": {},
   "outputs": [
    {
     "data": {
      "text/plain": [
       "(5456, 26)"
      ]
     },
     "execution_count": 24,
     "metadata": {},
     "output_type": "execute_result"
    }
   ],
   "source": [
    "df.shape"
   ]
  },
  {
   "cell_type": "code",
   "execution_count": 25,
   "id": "bf0e280c",
   "metadata": {},
   "outputs": [],
   "source": [
    "X_train, X_test, Y_train, Y_test = model_selection.train_test_split(x, y, test_size = 0.3)"
   ]
  },
  {
   "cell_type": "code",
   "execution_count": 26,
   "id": "dcce85b7",
   "metadata": {},
   "outputs": [
    {
     "data": {
      "text/plain": [
       "(3819, 24)"
      ]
     },
     "execution_count": 26,
     "metadata": {},
     "output_type": "execute_result"
    }
   ],
   "source": [
    "X_train.shape"
   ]
  },
  {
   "cell_type": "code",
   "execution_count": 27,
   "id": "1adb1dd5",
   "metadata": {},
   "outputs": [
    {
     "data": {
      "text/plain": [
       "(1637, 24)"
      ]
     },
     "execution_count": 27,
     "metadata": {},
     "output_type": "execute_result"
    }
   ],
   "source": [
    "X_test.shape"
   ]
  },
  {
   "cell_type": "code",
   "execution_count": 64,
   "id": "c4c24195",
   "metadata": {},
   "outputs": [
    {
     "data": {
      "text/plain": [
       "Perceptron(max_iter=10000, random_state=1, tol=0.1)"
      ]
     },
     "execution_count": 64,
     "metadata": {},
     "output_type": "execute_result"
    }
   ],
   "source": [
    "model = Perceptron(random_state=1, max_iter=10000,\n",
    "               tol=0.1)\n",
    "model.fit(X_train, Y_train)"
   ]
  },
  {
   "cell_type": "code",
   "execution_count": 65,
   "id": "b46a976e",
   "metadata": {},
   "outputs": [],
   "source": [
    "Y_pred = model.predict(X_test)"
   ]
  },
  {
   "cell_type": "code",
   "execution_count": 66,
   "id": "71d8a39d",
   "metadata": {},
   "outputs": [
    {
     "data": {
      "text/plain": [
       "0.9340256566890653"
      ]
     },
     "execution_count": 66,
     "metadata": {},
     "output_type": "execute_result"
    }
   ],
   "source": [
    "from sklearn import metrics\n",
    "metrics.accuracy_score(Y_test, Y_pred) "
   ]
  },
  {
   "cell_type": "code",
   "execution_count": 67,
   "id": "76d31a6a",
   "metadata": {},
   "outputs": [
    {
     "data": {
      "text/plain": [
       "array([[693,  60],\n",
       "       [ 48, 836]], dtype=int64)"
      ]
     },
     "execution_count": 67,
     "metadata": {},
     "output_type": "execute_result"
    }
   ],
   "source": [
    "cm = metrics.confusion_matrix(Y_test, Y_pred)\n",
    "cm"
   ]
  },
  {
   "cell_type": "code",
   "execution_count": 61,
   "id": "18e74006",
   "metadata": {},
   "outputs": [
    {
     "data": {
      "text/plain": [
       "Text(69.0, 0.5, 'Predicted')"
      ]
     },
     "execution_count": 61,
     "metadata": {},
     "output_type": "execute_result"
    },
    {
     "data": {
      "image/png": "[encoded data removed]",
      "text/plain": [
       "<Figure size 720x504 with 2 Axes>"
      ]
     },
     "metadata": {
      "needs_background": "light"
     },
     "output_type": "display_data"
    }
   ],
   "source": [
    "import seaborn as sn\n",
    "plt.figure(figsize = (10,7))\n",
    "sn.heatmap(cm, annot = True)\n",
    "plt.xlabel('Truth')\n",
    "plt.ylabel('Predicted')"
   ]
  },
  {
   "cell_type": "code",
   "execution_count": 36,
   "id": "bef6d33c",
   "metadata": {},
   "outputs": [],
   "source": [
    "df.to_csv(r'C:\\Users\\pankaj verma\\Desktop\\rating.csv', index = False) #saving the cleaned dataset for implementing further models"
   ]
  },
  {
   "cell_type": "markdown",
   "id": "6b0eaebb",
   "metadata": {},
   "source": [
    "\n"
   ]
  },
  {
   "cell_type": "code",
   "execution_count": null,
   "id": "21d8cd62",
   "metadata": {},
   "outputs": [],
   "source": []
  }
 ],
 "metadata": {
  "kernelspec": {
   "display_name": "Python 3",
   "language": "python",
   "name": "python3"
  },
  "language_info": {
   "codemirror_mode": {
    "name": "ipython",
    "version": 3
   },
   "file_extension": ".py",
   "mimetype": "text/x-python",
   "name": "python",
   "nbconvert_exporter": "python",
   "pygments_lexer": "ipython3",
   "version": "3.8.8"
  }
 },
 "nbformat": 4,
 "nbformat_minor": 5
}
